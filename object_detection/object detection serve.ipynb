{
 "cells": [
  {
   "cell_type": "code",
   "execution_count": 1,
   "metadata": {},
   "outputs": [
    {
     "name": "stdout",
     "output_type": "stream",
     "text": [
      "Collecting imageai==2.0.2\n",
      "  Downloading https://github.com/OlafenwaMoses/ImageAI/releases/download/2.0.2/imageai-2.0.2-py3-none-any.whl (151 kB)\n",
      "Installing collected packages: imageai\n",
      "Successfully installed imageai-2.0.2\n"
     ]
    }
   ],
   "source": [
    "!pip install https://github.com/OlafenwaMoses/ImageAI/releases/download/2.0.2/imageai-2.0.2-py3-none-any.whl"
   ]
  },
  {
   "cell_type": "code",
   "execution_count": 3,
   "metadata": {
    "scrolled": true
   },
   "outputs": [
    {
     "name": "stdout",
     "output_type": "stream",
     "text": [
      "Requirement already satisfied: h5py in c:\\users\\sungjin\\anaconda3\\lib\\site-packages (2.6.0)\n",
      "Requirement already satisfied: numpy>=1.6.1 in c:\\users\\sungjin\\anaconda3\\lib\\site-packages (from h5py) (1.16.4)\n",
      "Requirement already satisfied: six in c:\\users\\sungjin\\anaconda3\\lib\\site-packages (from h5py) (1.12.0)\n"
     ]
    }
   ],
   "source": [
    "!pip install h5py"
   ]
  },
  {
   "cell_type": "code",
   "execution_count": 4,
   "metadata": {},
   "outputs": [
    {
     "name": "stdout",
     "output_type": "stream",
     "text": [
      "Requirement already satisfied: pillow in c:\\users\\sungjin\\anaconda3\\lib\\site-packages (3.2.0)\n"
     ]
    }
   ],
   "source": [
    "!pip install pillow"
   ]
  },
  {
   "cell_type": "code",
   "execution_count": null,
   "metadata": {
    "collapsed": true
   },
   "outputs": [],
   "source": []
  },
  {
   "cell_type": "code",
   "execution_count": 8,
   "metadata": {
    "scrolled": true
   },
   "outputs": [
    {
     "name": "stdout",
     "output_type": "stream",
     "text": [
      "C:\\Users\\SungJin\\Desktop\\notebook\\object detection\n",
      "car  :  64.71725702285767\n",
      "car  :  52.694982290267944\n",
      "truck  :  51.49204730987549\n",
      "car  :  73.30724596977234\n",
      "cell phone  :  92.02391505241394\n",
      "cell phone  :  94.10651922225952\n",
      "cell phone  :  97.39655256271362\n"
     ]
    }
   ],
   "source": [
    "from imageai.Detection import ObjectDetection\n",
    "import os\n",
    "\n",
    "execution_path = os.getcwd()\n",
    "\n",
    "detector = ObjectDetection()\n",
    "detector.setModelTypeAsRetinaNet()\n",
    "print(execution_path)\n",
    "detector.setModelPath( os.path.join(execution_path , \"resnet50_coco_best_v2.0.1.h5\"))\n",
    "detector.loadModel()\n",
    "detections, extracted_images = detector.detectObjectsFromImage(input_image=os.path.join(execution_path , \"image_2.jpg\"), output_image_path=os.path.join(execution_path , \"imagenew_2.jpg\"), extract_detected_objects=True)\n",
    "\n",
    "for eachObject in detections:\n",
    "    print(eachObject[\"name\"] , \" : \" , eachObject[\"percentage_probability\"] )"
   ]
  },
  {
   "cell_type": "code",
   "execution_count": 7,
   "metadata": {},
   "outputs": [
    {
     "data": {
      "text/plain": [
       "['C:\\\\Users\\\\SungJin\\\\Desktop\\\\notebook\\\\object detection\\\\imagenew.jpg-objects\\\\car-1.jpg',\n",
       " 'C:\\\\Users\\\\SungJin\\\\Desktop\\\\notebook\\\\object detection\\\\imagenew.jpg-objects\\\\car-2.jpg',\n",
       " 'C:\\\\Users\\\\SungJin\\\\Desktop\\\\notebook\\\\object detection\\\\imagenew.jpg-objects\\\\car-3.jpg',\n",
       " 'C:\\\\Users\\\\SungJin\\\\Desktop\\\\notebook\\\\object detection\\\\imagenew.jpg-objects\\\\cell phone-4.jpg',\n",
       " 'C:\\\\Users\\\\SungJin\\\\Desktop\\\\notebook\\\\object detection\\\\imagenew.jpg-objects\\\\cell phone-5.jpg',\n",
       " 'C:\\\\Users\\\\SungJin\\\\Desktop\\\\notebook\\\\object detection\\\\imagenew.jpg-objects\\\\cell phone-6.jpg',\n",
       " 'C:\\\\Users\\\\SungJin\\\\Desktop\\\\notebook\\\\object detection\\\\imagenew.jpg-objects\\\\cell phone-7.jpg']"
      ]
     },
     "execution_count": 7,
     "metadata": {},
     "output_type": "execute_result"
    }
   ],
   "source": [
    "extracted_images"
   ]
  }
 ],
 "metadata": {
  "kernelspec": {
   "display_name": "Python 3",
   "language": "python",
   "name": "python3"
  },
  "language_info": {
   "codemirror_mode": {
    "name": "ipython",
    "version": 3
   },
   "file_extension": ".py",
   "mimetype": "text/x-python",
   "name": "python",
   "nbconvert_exporter": "python",
   "pygments_lexer": "ipython3",
   "version": "3.7.6"
  }
 },
 "nbformat": 4,
 "nbformat_minor": 1
}
